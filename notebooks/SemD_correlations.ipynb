{
 "cells": [
  {
   "cell_type": "code",
   "execution_count": 1,
   "metadata": {},
   "outputs": [],
   "source": [
    "import pandas as pd\n",
    "\n",
    "from semsim.constants import SEMD_DIR"
   ]
  },
  {
   "cell_type": "code",
   "execution_count": 2,
   "metadata": {},
   "outputs": [],
   "source": [
    "lsi_file = SEMD_DIR / 'DEWAC_1000_40k_v2' / 'DEWAC_1000_40k_v2.semd'\n",
    "d2v_file = SEMD_DIR / 'DEWAC_1000_40k_d2v' / 'DEWAC_1000_40k_d2v.semd'"
   ]
  },
  {
   "cell_type": "code",
   "execution_count": 3,
   "metadata": {},
   "outputs": [],
   "source": [
    "lsi_semd = pd.read_csv(lsi_file, sep='\\t', index_col=0)\n",
    "d2v_semd = pd.read_csv(d2v_file, sep='\\t', index_col=0)"
   ]
  },
  {
   "cell_type": "code",
   "execution_count": 4,
   "metadata": {},
   "outputs": [
    {
     "data": {
      "text/html": [
       "<div>\n",
       "<style scoped>\n",
       "    .dataframe tbody tr th:only-of-type {\n",
       "        vertical-align: middle;\n",
       "    }\n",
       "\n",
       "    .dataframe tbody tr th {\n",
       "        vertical-align: top;\n",
       "    }\n",
       "\n",
       "    .dataframe thead th {\n",
       "        text-align: right;\n",
       "    }\n",
       "</style>\n",
       "<table border=\"1\" class=\"dataframe\">\n",
       "  <thead>\n",
       "    <tr style=\"text-align: right;\">\n",
       "      <th></th>\n",
       "      <th>mean_cos</th>\n",
       "      <th>SemD</th>\n",
       "      <th>nb_contexts</th>\n",
       "    </tr>\n",
       "  </thead>\n",
       "  <tbody>\n",
       "    <tr>\n",
       "      <th>Abberufung</th>\n",
       "      <td>0.223071</td>\n",
       "      <td>0.651557</td>\n",
       "      <td>1299.0</td>\n",
       "    </tr>\n",
       "    <tr>\n",
       "      <th>Abend</th>\n",
       "      <td>0.087895</td>\n",
       "      <td>1.056037</td>\n",
       "      <td>49686.0</td>\n",
       "    </tr>\n",
       "    <tr>\n",
       "      <th>Aberglaube</th>\n",
       "      <td>0.102778</td>\n",
       "      <td>0.988098</td>\n",
       "      <td>1318.0</td>\n",
       "    </tr>\n",
       "    <tr>\n",
       "      <th>Aberkennung</th>\n",
       "      <td>0.106445</td>\n",
       "      <td>0.972874</td>\n",
       "      <td>696.0</td>\n",
       "    </tr>\n",
       "    <tr>\n",
       "      <th>Abfertigung</th>\n",
       "      <td>0.072495</td>\n",
       "      <td>1.139690</td>\n",
       "      <td>596.0</td>\n",
       "    </tr>\n",
       "    <tr>\n",
       "      <th>...</th>\n",
       "      <td>...</td>\n",
       "      <td>...</td>\n",
       "      <td>...</td>\n",
       "    </tr>\n",
       "    <tr>\n",
       "      <th>Übersetzung</th>\n",
       "      <td>0.046980</td>\n",
       "      <td>1.328090</td>\n",
       "      <td>16304.0</td>\n",
       "    </tr>\n",
       "    <tr>\n",
       "      <th>Überzeugung</th>\n",
       "      <td>0.027815</td>\n",
       "      <td>1.555727</td>\n",
       "      <td>24994.0</td>\n",
       "    </tr>\n",
       "    <tr>\n",
       "      <th>Übung</th>\n",
       "      <td>0.048079</td>\n",
       "      <td>1.318049</td>\n",
       "      <td>16368.0</td>\n",
       "    </tr>\n",
       "    <tr>\n",
       "      <th>überlaufen</th>\n",
       "      <td>0.060927</td>\n",
       "      <td>1.215193</td>\n",
       "      <td>1658.0</td>\n",
       "    </tr>\n",
       "    <tr>\n",
       "      <th>üblich</th>\n",
       "      <td>0.007238</td>\n",
       "      <td>2.140395</td>\n",
       "      <td>43466.0</td>\n",
       "    </tr>\n",
       "  </tbody>\n",
       "</table>\n",
       "<p>1840 rows × 3 columns</p>\n",
       "</div>"
      ],
      "text/plain": [
       "             mean_cos      SemD  nb_contexts\n",
       "Abberufung   0.223071  0.651557       1299.0\n",
       "Abend        0.087895  1.056037      49686.0\n",
       "Aberglaube   0.102778  0.988098       1318.0\n",
       "Aberkennung  0.106445  0.972874        696.0\n",
       "Abfertigung  0.072495  1.139690        596.0\n",
       "...               ...       ...          ...\n",
       "Übersetzung  0.046980  1.328090      16304.0\n",
       "Überzeugung  0.027815  1.555727      24994.0\n",
       "Übung        0.048079  1.318049      16368.0\n",
       "überlaufen   0.060927  1.215193       1658.0\n",
       "üblich       0.007238  2.140395      43466.0\n",
       "\n",
       "[1840 rows x 3 columns]"
      ]
     },
     "execution_count": 4,
     "metadata": {},
     "output_type": "execute_result"
    }
   ],
   "source": [
    "lsi_semd"
   ]
  },
  {
   "cell_type": "code",
   "execution_count": 5,
   "metadata": {},
   "outputs": [
    {
     "data": {
      "text/html": [
       "<div>\n",
       "<style scoped>\n",
       "    .dataframe tbody tr th:only-of-type {\n",
       "        vertical-align: middle;\n",
       "    }\n",
       "\n",
       "    .dataframe tbody tr th {\n",
       "        vertical-align: top;\n",
       "    }\n",
       "\n",
       "    .dataframe thead th {\n",
       "        text-align: right;\n",
       "    }\n",
       "</style>\n",
       "<table border=\"1\" class=\"dataframe\">\n",
       "  <thead>\n",
       "    <tr style=\"text-align: right;\">\n",
       "      <th></th>\n",
       "      <th>lsi</th>\n",
       "      <th>d2v</th>\n",
       "    </tr>\n",
       "  </thead>\n",
       "  <tbody>\n",
       "    <tr>\n",
       "      <th>Abberufung</th>\n",
       "      <td>0.651557</td>\n",
       "      <td>0.946886</td>\n",
       "    </tr>\n",
       "    <tr>\n",
       "      <th>Abend</th>\n",
       "      <td>1.056037</td>\n",
       "      <td>1.606878</td>\n",
       "    </tr>\n",
       "    <tr>\n",
       "      <th>Aberglaube</th>\n",
       "      <td>0.988098</td>\n",
       "      <td>1.346144</td>\n",
       "    </tr>\n",
       "    <tr>\n",
       "      <th>Aberkennung</th>\n",
       "      <td>0.972874</td>\n",
       "      <td>1.182446</td>\n",
       "    </tr>\n",
       "    <tr>\n",
       "      <th>Abfertigung</th>\n",
       "      <td>1.139690</td>\n",
       "      <td>1.263873</td>\n",
       "    </tr>\n",
       "    <tr>\n",
       "      <th>...</th>\n",
       "      <td>...</td>\n",
       "      <td>...</td>\n",
       "    </tr>\n",
       "    <tr>\n",
       "      <th>Übersetzung</th>\n",
       "      <td>1.328090</td>\n",
       "      <td>1.681886</td>\n",
       "    </tr>\n",
       "    <tr>\n",
       "      <th>Überzeugung</th>\n",
       "      <td>1.555727</td>\n",
       "      <td>1.944741</td>\n",
       "    </tr>\n",
       "    <tr>\n",
       "      <th>Übung</th>\n",
       "      <td>1.318049</td>\n",
       "      <td>1.661535</td>\n",
       "    </tr>\n",
       "    <tr>\n",
       "      <th>überlaufen</th>\n",
       "      <td>1.215193</td>\n",
       "      <td>1.571520</td>\n",
       "    </tr>\n",
       "    <tr>\n",
       "      <th>üblich</th>\n",
       "      <td>2.140395</td>\n",
       "      <td>2.534185</td>\n",
       "    </tr>\n",
       "  </tbody>\n",
       "</table>\n",
       "<p>1840 rows × 2 columns</p>\n",
       "</div>"
      ],
      "text/plain": [
       "                  lsi       d2v\n",
       "Abberufung   0.651557  0.946886\n",
       "Abend        1.056037  1.606878\n",
       "Aberglaube   0.988098  1.346144\n",
       "Aberkennung  0.972874  1.182446\n",
       "Abfertigung  1.139690  1.263873\n",
       "...               ...       ...\n",
       "Übersetzung  1.328090  1.681886\n",
       "Überzeugung  1.555727  1.944741\n",
       "Übung        1.318049  1.661535\n",
       "überlaufen   1.215193  1.571520\n",
       "üblich       2.140395  2.534185\n",
       "\n",
       "[1840 rows x 2 columns]"
      ]
     },
     "execution_count": 5,
     "metadata": {},
     "output_type": "execute_result"
    }
   ],
   "source": [
    "semd = pd.concat([lsi_semd.SemD, d2v_semd.SemD], axis=1)\n",
    "semd.columns = ['lsi', 'd2v']\n",
    "semd"
   ]
  },
  {
   "cell_type": "code",
   "execution_count": 6,
   "metadata": {},
   "outputs": [
    {
     "data": {
      "text/html": [
       "<div>\n",
       "<style scoped>\n",
       "    .dataframe tbody tr th:only-of-type {\n",
       "        vertical-align: middle;\n",
       "    }\n",
       "\n",
       "    .dataframe tbody tr th {\n",
       "        vertical-align: top;\n",
       "    }\n",
       "\n",
       "    .dataframe thead th {\n",
       "        text-align: right;\n",
       "    }\n",
       "</style>\n",
       "<table border=\"1\" class=\"dataframe\">\n",
       "  <thead>\n",
       "    <tr style=\"text-align: right;\">\n",
       "      <th></th>\n",
       "      <th>lsi</th>\n",
       "      <th>d2v</th>\n",
       "    </tr>\n",
       "  </thead>\n",
       "  <tbody>\n",
       "    <tr>\n",
       "      <th>lsi</th>\n",
       "      <td>1.000000</td>\n",
       "      <td>0.942622</td>\n",
       "    </tr>\n",
       "    <tr>\n",
       "      <th>d2v</th>\n",
       "      <td>0.942622</td>\n",
       "      <td>1.000000</td>\n",
       "    </tr>\n",
       "  </tbody>\n",
       "</table>\n",
       "</div>"
      ],
      "text/plain": [
       "          lsi       d2v\n",
       "lsi  1.000000  0.942622\n",
       "d2v  0.942622  1.000000"
      ]
     },
     "execution_count": 6,
     "metadata": {},
     "output_type": "execute_result"
    }
   ],
   "source": [
    "semd.corr()"
   ]
  },
  {
   "cell_type": "code",
   "execution_count": 7,
   "metadata": {},
   "outputs": [
    {
     "data": {
      "image/png": "[encoded data removed]",
      "text/plain": [
       "<Figure size 640x480 with 1 Axes>"
      ]
     },
     "metadata": {},
     "output_type": "display_data"
    }
   ],
   "source": [
    "semd.plot.scatter(x='lsi', y='d2v', s=1);"
   ]
  }
 ],
 "metadata": {
  "kernelspec": {
   "display_name": "Python 3 (ipykernel)",
   "language": "python",
   "name": "python3"
  },
  "language_info": {
   "codemirror_mode": {
    "name": "ipython",
    "version": 3
   },
   "file_extension": ".py",
   "mimetype": "text/x-python",
   "name": "python",
   "nbconvert_exporter": "python",
   "pygments_lexer": "ipython3",
   "version": "3.7.16"
  }
 },
 "nbformat": 4,
 "nbformat_minor": 4
}
