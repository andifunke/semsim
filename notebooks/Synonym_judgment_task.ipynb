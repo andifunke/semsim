{
 "cells": [
  {
   "cell_type": "code",
   "execution_count": null,
   "metadata": {},
   "outputs": [],
   "source": [
    "from pathlib import Path\n",
    "import pandas as pd\n",
    "from gensim import models"
   ]
  },
  {
   "cell_type": "code",
   "execution_count": null,
   "metadata": {},
   "outputs": [],
   "source": [
    "sj_file_en = \"../data/synonym_judgement/cueing study stimuli for distribution.csv\"\n",
    "\n",
    "sj_en_full = pd.read_csv(sj_file_en)\n",
    "sj_en = sj_en_full[['Probe', 'Target', 'Foil1', 'Foil2']]\n",
    "sj_en = sj_en[~sj_en.isna().any(axis=1)]\n",
    "sj_en"
   ]
  },
  {
   "cell_type": "code",
   "execution_count": null,
   "metadata": {},
   "outputs": [],
   "source": [
    "sj_file_de = \"../data/synonym_judgement/SJT_stimuli.csv\"\n",
    "\n",
    "sj_de_full = pd.read_csv(sj_file_de)\n",
    "sj_de = sj_de_full[['probe', 'target', 'foil1', 'foil2']]\n",
    "sj_de = sj_de[~sj_de.isna().any(axis=1)]\n",
    "sj_de"
   ]
  },
  {
   "cell_type": "code",
   "execution_count": null,
   "metadata": {},
   "outputs": [],
   "source": [
    "def closest_match(terms, vectors):\n",
    "    \"\"\"\n",
    "    Returns the index of the term closest to the first term in a list of words.\n",
    "    \n",
    "    Note that index 0 is taken as the probe and all words with index > 0 are tested.\n",
    "    \"\"\"\n",
    "    \n",
    "    terms = terms.to_list()\n",
    "    # print(terms)\n",
    "    try:\n",
    "        distances = vectors.distances(terms[0], terms[1:])\n",
    "        # print(distances)\n",
    "        min_dist = distances.argmin() + 1\n",
    "        return min_dist\n",
    "    except KeyError:\n",
    "        for term in terms:\n",
    "            if term not in vectors:\n",
    "                print(f\"missing in vectors: '{term}'\")\n",
    "        return -1\n",
    "\n",
    "    \n",
    "def synonym_judgement_accuracy(wordvectors, tests, target_idx=1):\n",
    "    pred = tests.apply(lambda x: closest_match(x, wordvectors), axis=1)\n",
    "    pred = pred[pred > 0]\n",
    "    correct = (pred == target_idx).sum()\n",
    "    acc = correct / len(pred)\n",
    "    print()\n",
    "    print('Accuracy:', round(acc, 3))\n",
    "    print('Tests with unknown words:', len(tests) - len(pred))"
   ]
  },
  {
   "cell_type": "code",
   "execution_count": null,
   "metadata": {},
   "outputs": [],
   "source": [
    "google_w2v = models.KeyedVectors.load_word2vec_format('../data/vectors/GoogleNews-vectors-negative300.bin', binary=True)"
   ]
  },
  {
   "cell_type": "code",
   "execution_count": null,
   "metadata": {},
   "outputs": [],
   "source": [
    "synonym_judgement_accuracy(google_w2v, sj_en)"
   ]
  },
  {
   "cell_type": "code",
   "execution_count": null,
   "metadata": {},
   "outputs": [],
   "source": [
    "file = 'bnc_lsi_gensim_term_vectors.csv'\n",
    "dir_path = Path('../data/SemD/bnc_cs1000_minsz50_lc_filtered')\n",
    "file_path = dir_path / file\n",
    "w2v_file_path = file_path.with_suffix('.w2v')"
   ]
  },
  {
   "cell_type": "code",
   "execution_count": null,
   "metadata": {},
   "outputs": [],
   "source": [
    "# convert csv file to w2v format\n",
    "\n",
    "lsi_wv = pd.read_csv(file_path, index_col=0)\n",
    "\n",
    "with open(w2v_file_path, 'w') as fp:\n",
    "    fp.write(f'{lsi_wv.shape[0]} {lsi_wv.shape[1]}\\n')\n",
    "    lsi_wv.to_csv(fp, sep=' ', header=False)\n",
    "\n",
    "lsi_wv"
   ]
  },
  {
   "cell_type": "code",
   "execution_count": null,
   "metadata": {},
   "outputs": [],
   "source": [
    "bnc_lsi = models.KeyedVectors.load_word2vec_format(w2v_file_path)"
   ]
  },
  {
   "cell_type": "code",
   "execution_count": null,
   "metadata": {},
   "outputs": [],
   "source": [
    "synonym_judgement_accuracy(bnc_lsi, sj_en)"
   ]
  },
  {
   "cell_type": "code",
   "execution_count": null,
   "metadata": {},
   "outputs": [],
   "source": [
    "from gensim.models.doc2vec import Doc2Vec\n",
    "from gensim.models.word2vec import Word2Vec"
   ]
  },
  {
   "cell_type": "markdown",
   "metadata": {},
   "source": [
    "### GERMAN"
   ]
  },
  {
   "cell_type": "code",
   "execution_count": null,
   "metadata": {},
   "outputs": [],
   "source": [
    "Path('../data/vectors/d2v').resolve()"
   ]
  },
  {
   "cell_type": "code",
   "execution_count": null,
   "metadata": {},
   "outputs": [],
   "source": [
    "file = '../data/vectors/d2v'\n",
    "d2v = Doc2Vec.load(file)\n",
    "synonym_judgement_accuracy(d2v.wv, sj_de)"
   ]
  },
  {
   "cell_type": "code",
   "execution_count": null,
   "metadata": {},
   "outputs": [],
   "source": [
    "file = '../data/vectors/w2v'\n",
    "w2v = Word2Vec.load(file)\n",
    "synonym_judgement_accuracy(w2v.wv, sj_de)"
   ]
  },
  {
   "cell_type": "code",
   "execution_count": null,
   "metadata": {},
   "outputs": [],
   "source": [
    "file = '../data/SemD/OP2/OnlineParticipation_lsi_gensim_term_vectors.csv'\n",
    "op_lsi = models.KeyedVectors.load_word2vec_format(file)\n",
    "synonym_judgement_accuracy(op_lsi, sj_de)"
   ]
  },
  {
   "cell_type": "code",
   "execution_count": null,
   "metadata": {},
   "outputs": [],
   "source": [
    "file = '../data/SemD/DEWAC_1000_40k/dewac_lsi_word_vectors.vec'\n",
    "op_lsi = models.KeyedVectors.load_word2vec_format(file)\n",
    "synonym_judgement_accuracy(op_lsi, sj_de)"
   ]
  },
  {
   "cell_type": "code",
   "execution_count": null,
   "metadata": {},
   "outputs": [],
   "source": [
    "file = '../data/SemD/DEWAC_1000/dewac_lsi_word_vectors.vec'\n",
    "op_lsi = models.KeyedVectors.load_word2vec_format(file)\n",
    "synonym_judgement_accuracy(op_lsi, sj_de)"
   ]
  },
  {
   "cell_type": "code",
   "execution_count": null,
   "metadata": {},
   "outputs": [],
   "source": [
    "file = '../data/SemD/DEWAC/dewac_lsi_word_vectors.vec'\n",
    "op_lsi = models.KeyedVectors.load_word2vec_format(file)\n",
    "synonym_judgement_accuracy(op_lsi, sj_de)"
   ]
  },
  {
   "cell_type": "code",
   "execution_count": null,
   "metadata": {},
   "outputs": [],
   "source": [
    "file = '../data/SemD/DEWAC_1000_40k_v2/dewac_lsi_word_vectors.vec'\n",
    "op_lsi = models.KeyedVectors.load_word2vec_format(file)\n",
    "synonym_judgement_accuracy(op_lsi, sj_de)"
   ]
  }
 ],
 "metadata": {
  "kernelspec": {
   "display_name": "Python 3 (ipykernel)",
   "language": "python",
   "name": "python3"
  },
  "language_info": {
   "codemirror_mode": {
    "name": "ipython",
    "version": 3
   },
   "file_extension": ".py",
   "mimetype": "text/x-python",
   "name": "python",
   "nbconvert_exporter": "python",
   "pygments_lexer": "ipython3",
   "version": "3.7.16"
  }
 },
 "nbformat": 4,
 "nbformat_minor": 4
}
