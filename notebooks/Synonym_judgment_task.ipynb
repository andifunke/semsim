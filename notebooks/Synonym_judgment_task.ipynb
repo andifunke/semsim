{
 "cells": [
  {
   "cell_type": "code",
   "execution_count": 1,
   "metadata": {},
   "outputs": [],
   "source": [
    "from pathlib import Path\n",
    "import pandas as pd\n",
    "from gensim import models"
   ]
  },
  {
   "cell_type": "code",
   "execution_count": 2,
   "metadata": {},
   "outputs": [
    {
     "data": {
      "text/html": [
       "<div>\n",
       "<style scoped>\n",
       "    .dataframe tbody tr th:only-of-type {\n",
       "        vertical-align: middle;\n",
       "    }\n",
       "\n",
       "    .dataframe tbody tr th {\n",
       "        vertical-align: top;\n",
       "    }\n",
       "\n",
       "    .dataframe thead th {\n",
       "        text-align: right;\n",
       "    }\n",
       "</style>\n",
       "<table border=\"1\" class=\"dataframe\">\n",
       "  <thead>\n",
       "    <tr style=\"text-align: right;\">\n",
       "      <th></th>\n",
       "      <th>Probe</th>\n",
       "      <th>Target</th>\n",
       "      <th>Foil1</th>\n",
       "      <th>Foil2</th>\n",
       "    </tr>\n",
       "  </thead>\n",
       "  <tbody>\n",
       "    <tr>\n",
       "      <th>0</th>\n",
       "      <td>abstain</td>\n",
       "      <td>refrain</td>\n",
       "      <td>covet</td>\n",
       "      <td>specify</td>\n",
       "    </tr>\n",
       "    <tr>\n",
       "      <th>1</th>\n",
       "      <td>accordance</td>\n",
       "      <td>agreement</td>\n",
       "      <td>substitute</td>\n",
       "      <td>analogy</td>\n",
       "    </tr>\n",
       "    <tr>\n",
       "      <th>2</th>\n",
       "      <td>advantage</td>\n",
       "      <td>benefit</td>\n",
       "      <td>tendency</td>\n",
       "      <td>condition</td>\n",
       "    </tr>\n",
       "    <tr>\n",
       "      <th>3</th>\n",
       "      <td>alias</td>\n",
       "      <td>pseudonym</td>\n",
       "      <td>aspect</td>\n",
       "      <td>reprisal</td>\n",
       "    </tr>\n",
       "    <tr>\n",
       "      <th>4</th>\n",
       "      <td>alternative</td>\n",
       "      <td>substitute</td>\n",
       "      <td>ambition</td>\n",
       "      <td>discretion</td>\n",
       "    </tr>\n",
       "    <tr>\n",
       "      <th>...</th>\n",
       "      <td>...</td>\n",
       "      <td>...</td>\n",
       "      <td>...</td>\n",
       "      <td>...</td>\n",
       "    </tr>\n",
       "    <tr>\n",
       "      <th>195</th>\n",
       "      <td>villain</td>\n",
       "      <td>crook</td>\n",
       "      <td>herring</td>\n",
       "      <td>aluminium</td>\n",
       "    </tr>\n",
       "    <tr>\n",
       "      <th>196</th>\n",
       "      <td>violin</td>\n",
       "      <td>viola</td>\n",
       "      <td>shed</td>\n",
       "      <td>rabbit</td>\n",
       "    </tr>\n",
       "    <tr>\n",
       "      <th>197</th>\n",
       "      <td>waist</td>\n",
       "      <td>torso</td>\n",
       "      <td>goddess</td>\n",
       "      <td>chorus</td>\n",
       "    </tr>\n",
       "    <tr>\n",
       "      <th>198</th>\n",
       "      <td>window</td>\n",
       "      <td>door</td>\n",
       "      <td>eye</td>\n",
       "      <td>plant</td>\n",
       "    </tr>\n",
       "    <tr>\n",
       "      <th>199</th>\n",
       "      <td>zipper</td>\n",
       "      <td>fastener</td>\n",
       "      <td>raspberry</td>\n",
       "      <td>mosquito</td>\n",
       "    </tr>\n",
       "  </tbody>\n",
       "</table>\n",
       "<p>200 rows × 4 columns</p>\n",
       "</div>"
      ],
      "text/plain": [
       "           Probe      Target       Foil1       Foil2\n",
       "0        abstain     refrain       covet     specify\n",
       "1     accordance   agreement  substitute     analogy\n",
       "2      advantage     benefit    tendency   condition\n",
       "3          alias   pseudonym      aspect    reprisal\n",
       "4    alternative  substitute    ambition  discretion\n",
       "..           ...         ...         ...         ...\n",
       "195      villain       crook     herring   aluminium\n",
       "196       violin       viola        shed      rabbit\n",
       "197        waist       torso     goddess      chorus\n",
       "198       window        door         eye       plant\n",
       "199       zipper    fastener   raspberry    mosquito\n",
       "\n",
       "[200 rows x 4 columns]"
      ]
     },
     "execution_count": 2,
     "metadata": {},
     "output_type": "execute_result"
    }
   ],
   "source": [
    "st_file_en = \"../tmp/Psycho-Paper/synonym_judgement/cueing study stimuli for distribution.csv\"\n",
    "\n",
    "df_full = pd.read_csv(st_file_en)\n",
    "df = df_full[['Probe', 'Target', 'Foil1', 'Foil2']]\n",
    "df = df[~df.isna().any(axis=1)]\n",
    "df"
   ]
  },
  {
   "cell_type": "code",
   "execution_count": 3,
   "metadata": {},
   "outputs": [],
   "source": [
    "google_w2v = models.KeyedVectors.load_word2vec_format('../data/vectors/GoogleNews-vectors-negative300.bin', binary=True)"
   ]
  },
  {
   "cell_type": "code",
   "execution_count": 4,
   "metadata": {},
   "outputs": [
    {
     "name": "stdout",
     "output_type": "stream",
     "text": [
      "Accuracy: 0.939\n",
      "Tests with unknown words: 4\n"
     ]
    }
   ],
   "source": [
    "def closest_match(terms, vectors):\n",
    "    \"\"\"\n",
    "    Returns the index of the term closest to the first term in a list of words.\n",
    "    \n",
    "    Note that index 0 is taken as the probe and all words with index > 0 are tested.\n",
    "    \"\"\"\n",
    "    \n",
    "    terms = terms.to_list()\n",
    "    # print(terms)\n",
    "    try:\n",
    "        distances = vectors.distances(terms[0], terms[1:])\n",
    "        # print(distances)\n",
    "        min_dist = distances.argmin() + 1\n",
    "        return min_dist\n",
    "    except KeyError:\n",
    "        return -1\n",
    "\n",
    "    \n",
    "def synonym_judgement_accuracy(wordvectors, tests=df, target_idx=1):\n",
    "    pred = tests.apply(lambda x: closest_match(x, wordvectors), axis=1)\n",
    "    pred = pred[pred > 0]\n",
    "    correct = (pred == target_idx).sum()\n",
    "    acc = correct / len(pred)\n",
    "    print('Accuracy:', round(acc, 3))\n",
    "    print('Tests with unknown words:', len(df) - len(pred))\n",
    "    \n",
    "synonym_judgement_accuracy(google_w2v)"
   ]
  },
  {
   "cell_type": "code",
   "execution_count": 6,
   "metadata": {},
   "outputs": [],
   "source": [
    "# convert csv file to w2v format\n",
    "file = 'bnc_lsi_gensim_term_vectors.csv'\n",
    "dir_path = Path('../data/out/SemD/bnc_cs1000_minsz50_lc_filtered')\n",
    "file_path = dir_path / file\n",
    "w2v_file_path = file_path.with_suffix('.w2v')"
   ]
  },
  {
   "cell_type": "code",
   "execution_count": null,
   "metadata": {},
   "outputs": [],
   "source": [
    "lsi_wv = pd.read_csv(file_path, index_col=0)\n",
    "\n",
    "with open(w2v_file_path, 'w') as fp:\n",
    "    fp.write(f'{lsi_wv.shape[0]} {lsi_wv.shape[1]}\\n')\n",
    "    lsi_wv.to_csv(fp, sep=' ', header=None)\n",
    "\n",
    "lsi_wv"
   ]
  },
  {
   "cell_type": "code",
   "execution_count": 7,
   "metadata": {},
   "outputs": [
    {
     "data": {
      "text/plain": [
       "<gensim.models.keyedvectors.Word2VecKeyedVectors at 0x7fa50efa9110>"
      ]
     },
     "execution_count": 7,
     "metadata": {},
     "output_type": "execute_result"
    }
   ],
   "source": [
    "bnc_lsi = models.KeyedVectors.load_word2vec_format(w2v_file_path)\n",
    "bnc_lsi"
   ]
  },
  {
   "cell_type": "code",
   "execution_count": 8,
   "metadata": {},
   "outputs": [
    {
     "name": "stdout",
     "output_type": "stream",
     "text": [
      "Accuracy: 0.844\n",
      "Tests with unknown words: 27\n"
     ]
    }
   ],
   "source": [
    "synonym_judgement_accuracy(bnc_lsi)"
   ]
  }
 ],
 "metadata": {
  "kernelspec": {
   "display_name": "Python 3",
   "language": "python",
   "name": "python3"
  },
  "language_info": {
   "codemirror_mode": {
    "name": "ipython",
    "version": 3
   },
   "file_extension": ".py",
   "mimetype": "text/x-python",
   "name": "python",
   "nbconvert_exporter": "python",
   "pygments_lexer": "ipython3",
   "version": "3.7.7"
  }
 },
 "nbformat": 4,
 "nbformat_minor": 4
}
