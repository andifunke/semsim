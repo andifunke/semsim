{
 "cells": [
  {
   "cell_type": "code",
   "execution_count": 1,
   "metadata": {},
   "outputs": [],
   "source": [
    "from pathlib import Path\n",
    "import pandas as pd"
   ]
  },
  {
   "cell_type": "code",
   "execution_count": 2,
   "metadata": {},
   "outputs": [
    {
     "data": {
      "text/html": [
       "<div>\n",
       "<style scoped>\n",
       "    .dataframe tbody tr th:only-of-type {\n",
       "        vertical-align: middle;\n",
       "    }\n",
       "\n",
       "    .dataframe tbody tr th {\n",
       "        vertical-align: top;\n",
       "    }\n",
       "\n",
       "    .dataframe thead th {\n",
       "        text-align: right;\n",
       "    }\n",
       "</style>\n",
       "<table border=\"1\" class=\"dataframe\">\n",
       "  <thead>\n",
       "    <tr style=\"text-align: right;\">\n",
       "      <th></th>\n",
       "      <th>mean_cos</th>\n",
       "      <th>SemD</th>\n",
       "      <th>BNC_wordcount</th>\n",
       "      <th>BNC_contexts</th>\n",
       "      <th>BNC_freq</th>\n",
       "      <th>lg_BNC_freq</th>\n",
       "    </tr>\n",
       "    <tr>\n",
       "      <th>term</th>\n",
       "      <th></th>\n",
       "      <th></th>\n",
       "      <th></th>\n",
       "      <th></th>\n",
       "      <th></th>\n",
       "      <th></th>\n",
       "    </tr>\n",
       "  </thead>\n",
       "  <tbody>\n",
       "    <tr>\n",
       "      <th>aa</th>\n",
       "      <td>0.020000</td>\n",
       "      <td>1.69</td>\n",
       "      <td>577</td>\n",
       "      <td>314</td>\n",
       "      <td>6.6</td>\n",
       "      <td>0.88</td>\n",
       "    </tr>\n",
       "    <tr>\n",
       "      <th>aah</th>\n",
       "      <td>0.085245</td>\n",
       "      <td>1.07</td>\n",
       "      <td>92</td>\n",
       "      <td>58</td>\n",
       "      <td>1.1</td>\n",
       "      <td>0.31</td>\n",
       "    </tr>\n",
       "    <tr>\n",
       "      <th>aback</th>\n",
       "      <td>0.025864</td>\n",
       "      <td>1.59</td>\n",
       "      <td>294</td>\n",
       "      <td>293</td>\n",
       "      <td>3.4</td>\n",
       "      <td>0.64</td>\n",
       "    </tr>\n",
       "    <tr>\n",
       "      <th>abacus</th>\n",
       "      <td>0.022685</td>\n",
       "      <td>1.64</td>\n",
       "      <td>51</td>\n",
       "      <td>40</td>\n",
       "      <td>0.6</td>\n",
       "      <td>0.20</td>\n",
       "    </tr>\n",
       "    <tr>\n",
       "      <th>abandon</th>\n",
       "      <td>0.008199</td>\n",
       "      <td>2.09</td>\n",
       "      <td>1257</td>\n",
       "      <td>1193</td>\n",
       "      <td>14.4</td>\n",
       "      <td>1.19</td>\n",
       "    </tr>\n",
       "    <tr>\n",
       "      <th>...</th>\n",
       "      <td>...</td>\n",
       "      <td>...</td>\n",
       "      <td>...</td>\n",
       "      <td>...</td>\n",
       "      <td>...</td>\n",
       "      <td>...</td>\n",
       "    </tr>\n",
       "    <tr>\n",
       "      <th>zoom</th>\n",
       "      <td>0.051591</td>\n",
       "      <td>1.29</td>\n",
       "      <td>241</td>\n",
       "      <td>161</td>\n",
       "      <td>2.8</td>\n",
       "      <td>0.58</td>\n",
       "    </tr>\n",
       "    <tr>\n",
       "      <th>zoomed</th>\n",
       "      <td>0.029300</td>\n",
       "      <td>1.53</td>\n",
       "      <td>64</td>\n",
       "      <td>59</td>\n",
       "      <td>0.7</td>\n",
       "      <td>0.24</td>\n",
       "    </tr>\n",
       "    <tr>\n",
       "      <th>zooming</th>\n",
       "      <td>0.023874</td>\n",
       "      <td>1.62</td>\n",
       "      <td>61</td>\n",
       "      <td>54</td>\n",
       "      <td>0.7</td>\n",
       "      <td>0.23</td>\n",
       "    </tr>\n",
       "    <tr>\n",
       "      <th>zoos</th>\n",
       "      <td>0.079977</td>\n",
       "      <td>1.10</td>\n",
       "      <td>144</td>\n",
       "      <td>87</td>\n",
       "      <td>1.7</td>\n",
       "      <td>0.42</td>\n",
       "    </tr>\n",
       "    <tr>\n",
       "      <th>zulu</th>\n",
       "      <td>0.166500</td>\n",
       "      <td>0.78</td>\n",
       "      <td>105</td>\n",
       "      <td>83</td>\n",
       "      <td>1.2</td>\n",
       "      <td>0.34</td>\n",
       "    </tr>\n",
       "  </tbody>\n",
       "</table>\n",
       "<p>31739 rows × 6 columns</p>\n",
       "</div>"
      ],
      "text/plain": [
       "         mean_cos  SemD  BNC_wordcount  BNC_contexts  BNC_freq  lg_BNC_freq\n",
       "term                                                                       \n",
       "aa       0.020000  1.69            577           314       6.6         0.88\n",
       "aah      0.085245  1.07             92            58       1.1         0.31\n",
       "aback    0.025864  1.59            294           293       3.4         0.64\n",
       "abacus   0.022685  1.64             51            40       0.6         0.20\n",
       "abandon  0.008199  2.09           1257          1193      14.4         1.19\n",
       "...           ...   ...            ...           ...       ...          ...\n",
       "zoom     0.051591  1.29            241           161       2.8         0.58\n",
       "zoomed   0.029300  1.53             64            59       0.7         0.24\n",
       "zooming  0.023874  1.62             61            54       0.7         0.23\n",
       "zoos     0.079977  1.10            144            87       1.7         0.42\n",
       "zulu     0.166500  0.78            105            83       1.2         0.34\n",
       "\n",
       "[31739 rows x 6 columns]"
      ]
     },
     "execution_count": 2,
     "metadata": {},
     "output_type": "execute_result"
    }
   ],
   "source": [
    "def asint(x):\n",
    "    try:\n",
    "        return int(x)\n",
    "    except:\n",
    "        return 0\n",
    "\n",
    "gt_file = '../data/out/SemD/13428_2012_278_MOESM1_ESM.csv'\n",
    "gt = pd.read_csv(gt_file, keep_default_na=False).sort_values('term')\n",
    "gt = gt.set_index('term')\n",
    "gt.BNC_contexts = gt.BNC_contexts.map(asint).astype(int)\n",
    "gt"
   ]
  },
  {
   "cell_type": "code",
   "execution_count": 20,
   "metadata": {},
   "outputs": [],
   "source": [
    "def semd_correlation(directory, file_name, local_gt=gt):\n",
    "\n",
    "    directory = Path(directory)\n",
    "    \n",
    "    try:\n",
    "        stats_file = directory / 'entropy_transform.csv'\n",
    "        stats = pd.read_csv(stats_file, sep='\\t', keep_default_na=False)\n",
    "        stats = stats.sort_values('term')\n",
    "        stats = stats.rename(columns={\n",
    "            'context_freq': 'BNC_contexts',\n",
    "            'corpus_freq': 'BNC_wordcount',\n",
    "            'freq': 'BNC_freq',\n",
    "            'log_freq': 'lg_BNC_freq',\n",
    "        })\n",
    "        stats = stats.set_index('term')\n",
    "        stats = stats[[c for c in local_gt.columns if c in stats.columns]]\n",
    "    except FileNotFoundError:\n",
    "        print(f\"Cannot find {stats_file}\")\n",
    "        stats = None\n",
    "\n",
    "    semd_file = directory / file_name\n",
    "    semd = pd.read_csv(semd_file, sep='\\t', keep_default_na=False, index_col=0, na_values=['', 'NA'])\n",
    "    semd.index.name = 'term'\n",
    "    semd = semd.rename(columns={'semd': 'SemD'})\n",
    "    semd = semd.sort_index()\n",
    "    print(semd.dtypes)\n",
    "\n",
    "    if stats is not None:\n",
    "        assert len(semd) == len(stats)\n",
    "        semd = semd.join(stats)\n",
    "\n",
    "        semd = semd[~semd.isna().any(axis=1)]\n",
    "    semd = semd[semd.index.isin(local_gt.index)]\n",
    "    #semd\n",
    "    semd_out_file = semd_file.with_suffix('.stats_semd')\n",
    "    semd.to_csv(semd_out_file, float_format='%.3f')\n",
    "\n",
    "    local_gt = local_gt[local_gt.index.isin(semd.index)]\n",
    "    \n",
    "    assert len(semd) == len(local_gt)\n",
    "    print('vocab size:', len(semd))\n",
    "    \n",
    "    corr = semd.corrwith(local_gt, axis=0)\n",
    "    corr.name = 'correlation'\n",
    "    return corr\n"
   ]
  },
  {
   "cell_type": "markdown",
   "metadata": {},
   "source": [
    "### Correlation between BNC-groundtruth and corpus_w_gt_terms\n",
    "\n",
    "`corpus_w_gt_terms` was calculated on the following parameters:\n",
    "\n",
    "**Korpus:**\n",
    "- corpus: BNC\n",
    "- chunk_size: 1000\n",
    "- min-doc-size: 50\n",
    "- lowercase: True\n",
    "- #chunks => 113785\n",
    "\n",
    "**Term-Document-Matrix:**\n",
    "- vocab: BNC ground truth vocab\n",
    "- min-contexts: 1\n",
    "- min-word-freq: 1\n",
    "- #terms => 30597\n",
    "\n",
    "**Entropy Normalization:**\n",
    "- epsilon: 0.0\n",
    "- log base: 10\n",
    "\n",
    "**LSI Projection:**\n",
    "- dimensions: 300\n",
    "- implementation: sklearn\n",
    "\n",
    "**SemD calculation:**\n",
    "- implementation: semsim"
   ]
  },
  {
   "cell_type": "code",
   "execution_count": 10,
   "metadata": {},
   "outputs": [
    {
     "name": "stdout",
     "output_type": "stream",
     "text": [
      "vocab size: 30597\n"
     ]
    },
    {
     "data": {
      "text/plain": [
       "mean_cos         0.153477\n",
       "SemD             0.208731\n",
       "BNC_wordcount    0.997916\n",
       "BNC_contexts     0.995518\n",
       "BNC_freq         0.997916\n",
       "lg_BNC_freq      0.988126\n",
       "Name: correlation, dtype: float64"
      ]
     },
     "execution_count": 10,
     "metadata": {},
     "output_type": "execute_result"
    }
   ],
   "source": [
    "semd_correlation(\n",
    "    '/media/andreas/Raptor/topiclabeling/data/out/SemD/corpus_w_gt_terms',\n",
    "    'bnc_corpus_w_gt_terms.semd',\n",
    "    gt,\n",
    ")"
   ]
  },
  {
   "cell_type": "markdown",
   "metadata": {},
   "source": [
    "### Correlation between BNC-groundtruth and bnc_cs1000_lc_filtered\n",
    "\n",
    "`cbnc_cs1000_lc_filtered` was calculated on the following parameters:\n",
    "\n",
    "**Korpus:**\n",
    "- corpus: BNC\n",
    "- chunk_size: 1000\n",
    "- min-doc-size: 1\n",
    "- lowercase: True\n",
    "- filtered: punct etc.\n",
    "- #chunks: \n",
    "\n",
    "**Term-Document-Matrix:**\n",
    "- vocab: none\n",
    "- min-contexts: 40\n",
    "- min-word-freq: 50\n",
    "- #terms => \n",
    "\n",
    "**Entropy Normalization:**\n",
    "- epsilon: 1.0\n",
    "- log base: e\n",
    "\n",
    "**LSI Projection:**\n",
    "- dimensions: 300\n",
    "- implementation: gensim\n",
    "\n",
    "**SemD calculation:**\n",
    "- implementation: semsim"
   ]
  },
  {
   "cell_type": "code",
   "execution_count": 11,
   "metadata": {},
   "outputs": [
    {
     "name": "stdout",
     "output_type": "stream",
     "text": [
      "vocab size: 31335\n"
     ]
    },
    {
     "data": {
      "text/plain": [
       "mean_cos         0.436173\n",
       "SemD             0.460770\n",
       "BNC_wordcount    0.997916\n",
       "BNC_contexts     0.996900\n",
       "BNC_freq         0.997916\n",
       "lg_BNC_freq      0.994125\n",
       "Name: correlation, dtype: float64"
      ]
     },
     "execution_count": 11,
     "metadata": {},
     "output_type": "execute_result"
    }
   ],
   "source": [
    "semd_correlation(\n",
    "    '/media/andreas/Raptor/topiclabeling/data/out/SemD/bnc_cs1000_lc_filtered',\n",
    "    'bnc_default.semd',\n",
    "    gt,\n",
    ")"
   ]
  },
  {
   "cell_type": "markdown",
   "metadata": {},
   "source": [
    "### Correlation between BNC-groundtruth and bnc_cs1000_minsz100_lc_natlog\n",
    "\n",
    "`cbnc_cs1000_lc_filtered` was calculated on the following parameters:\n",
    "\n",
    "**Korpus:**\n",
    "- corpus: BNC\n",
    "- chunk_size: 1000\n",
    "- min-doc-size: 100\n",
    "- lowercase: True\n",
    "- filtered: none\n",
    "- #chunks: \n",
    "\n",
    "**Term-Document-Matrix:**\n",
    "- vocab: none\n",
    "- min-contexts: 40\n",
    "- min-word-freq: 50\n",
    "- #terms => 42067\n",
    "\n",
    "**Entropy Normalization:**\n",
    "- epsilon: 0.0\n",
    "- log base: e\n",
    "\n",
    "**LSI Projection:**\n",
    "- dimensions: 300\n",
    "- implementation: gensim\n",
    "\n",
    "**SemD calculation:**\n",
    "- implementation: semsim"
   ]
  },
  {
   "cell_type": "code",
   "execution_count": 12,
   "metadata": {},
   "outputs": [
    {
     "name": "stdout",
     "output_type": "stream",
     "text": [
      "vocab size: 30597\n"
     ]
    },
    {
     "data": {
      "text/plain": [
       "mean_cos         0.157351\n",
       "SemD             0.211628\n",
       "BNC_wordcount    0.997917\n",
       "BNC_contexts     0.995533\n",
       "BNC_freq         0.997917\n",
       "lg_BNC_freq      0.988127\n",
       "Name: correlation, dtype: float64"
      ]
     },
     "execution_count": 12,
     "metadata": {},
     "output_type": "execute_result"
    }
   ],
   "source": [
    "semd_correlation(\n",
    "    '/media/andreas/Raptor/topiclabeling/data/out/SemD/bnc_cs1000_minsz100_lc_natlog',\n",
    "    'bnc_default.semd',\n",
    "    gt,\n",
    ")"
   ]
  },
  {
   "cell_type": "markdown",
   "metadata": {},
   "source": [
    "### Correlation between BNC-groundtruth and Test-data\n",
    "\n",
    "Hoffman's test data was calculated on the following parameters:\n",
    "\n",
    "**Korpus:**\n",
    "- corpus: ?\n",
    "- chunk_size: ?\n",
    "- min-doc-size: ?\n",
    "- lowercase: True\n",
    "- filtered: ?\n",
    "- #chunks: \n",
    "\n",
    "**Term-Document-Matrix:**\n",
    "- vocab: none\n",
    "- min-contexts: ?\n",
    "- min-word-freq: ?\n",
    "- #terms => \n",
    "\n",
    "**Entropy Normalization:**\n",
    "- epsilon: ?\n",
    "- log base: ?\n",
    "\n",
    "**LSI Projection:**\n",
    "- dimensions: 300\n",
    "- implementation: ?\n",
    "\n",
    "**SemD calculation:**\n",
    "- implementation: hoffman"
   ]
  },
  {
   "cell_type": "code",
   "execution_count": 21,
   "metadata": {},
   "outputs": [
    {
     "name": "stdout",
     "output_type": "stream",
     "text": [
      "Cannot find /home/andreas/Workspace/github/semsim/tmp/Psycho-Paper/semD/entropy_transform.csv\n",
      "SemD    float64\n",
      "dtype: object\n",
      "vocab size: 31739\n"
     ]
    },
    {
     "data": {
      "text/plain": [
       "SemD             0.71442\n",
       "BNC_contexts         NaN\n",
       "BNC_freq             NaN\n",
       "BNC_wordcount        NaN\n",
       "lg_BNC_freq          NaN\n",
       "mean_cos             NaN\n",
       "Name: correlation, dtype: float64"
      ]
     },
     "execution_count": 21,
     "metadata": {},
     "output_type": "execute_result"
    }
   ],
   "source": [
    "semd_correlation(\n",
    "    '/home/andreas/Workspace/github/semsim/tmp/Psycho-Paper/semD',\n",
    "    'semd_test_values.csv',\n",
    "    gt,\n",
    ")"
   ]
  }
 ],
 "metadata": {
  "kernelspec": {
   "display_name": "Python 3",
   "language": "python",
   "name": "python3"
  },
  "language_info": {
   "codemirror_mode": {
    "name": "ipython",
    "version": 3
   },
   "file_extension": ".py",
   "mimetype": "text/x-python",
   "name": "python",
   "nbconvert_exporter": "python",
   "pygments_lexer": "ipython3",
   "version": "3.7.7"
  }
 },
 "nbformat": 4,
 "nbformat_minor": 4
}
